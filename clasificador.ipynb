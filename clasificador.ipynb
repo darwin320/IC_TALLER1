{
  "metadata": {
    "kernelspec": {
      "name": "python",
      "display_name": "Python (Pyodide)",
      "language": "python"
    },
    "language_info": {
      "codemirror_mode": {
        "name": "python",
        "version": 3
      },
      "file_extension": ".py",
      "mimetype": "text/x-python",
      "name": "python",
      "nbconvert_exporter": "python",
      "pygments_lexer": "ipython3",
      "version": "3.8"
    }
  },
  "nbformat_minor": 5,
  "nbformat": 4,
  "cells": [
    {
      "cell_type": "code",
      "source": "from sklearn.neighbors import KNeighborsClassifier\n",
      "metadata": {
        "trusted": true
      },
      "execution_count": 1,
      "outputs": [],
      "id": "7fb5205f-45d0-4853-b792-c17fcc4af3bd"
    },
    {
      "cell_type": "code",
      "source": "import numpy as np",
      "metadata": {
        "trusted": true
      },
      "execution_count": 2,
      "outputs": [],
      "id": "c2fcf7df-5fde-4e76-affe-f988cdb5a78f"
    },
    {
      "cell_type": "code",
      "source": "MatrizEntrenamiento = np.array([[42.0,2.0,1.0],                                \n                                [46.0,3.0,1.0],                                \n                                [50.0,1.0,1.0],                                \n                                [30.0,1.0,1.0],                                \n                                [40.0,1.0,1.0],                                \n                                [39.0,2.0,1.0],                                \n                                [15.0,1.0,0.0],                                \n                                [16.0,1.0,1.0],                                \n                                [20.0,2.0,0.0],                                \n                                [18.0,3.0,1.0],                                \n                                [24.0,3.0,0.0],                                \n                                [30.0,1.0,1.0],                                \n                                [37.0,2.0,1.0],                                \n                                [19.0,1.0,1.0],                                \n                                [23.0,1.0,1.0],                                \n                                [49.0,2.0,0.0],                                \n                                [40.0,1.0,1.0],                                \n                                [24.0,2.0,0.0],                                \n                                [22.0,2.0,0.0],                               \n                                [26.0,3.0,0.0]])",
      "metadata": {
        "trusted": true
      },
      "execution_count": 3,
      "outputs": [],
      "id": "6c122f1d-f0b0-4f90-a900-51a240503a18"
    },
    {
      "cell_type": "code",
      "source": "MatrizResultado = np.array([0,\n                            0,\n                            0,\n                            0,\n                            0,\n                            0,\n                            0,\n                            0,\n                            0,\n                            0,\n                            1,\n                            0,\n                            0,\n                            0,\n                            0,\n                            1,\n                            0,\n                            1,\n                            1,                            \n                            1])",
      "metadata": {
        "trusted": true
      },
      "execution_count": 4,
      "outputs": [],
      "id": "602d6248-d001-49d4-bcfa-e67839b0281d"
    },
    {
      "cell_type": "code",
      "source": "Clasificador = KNeighborsClassifier(n_neighbors=1)\nClasificador.fit(MatrizEntrenamiento, MatrizResultado)",
      "metadata": {
        "trusted": true
      },
      "execution_count": 5,
      "outputs": [
        {
          "execution_count": 5,
          "output_type": "execute_result",
          "data": {
            "text/plain": "KNeighborsClassifier(n_neighbors=1)",
            "text/html": "<style>#sk-container-id-1 {color: black;background-color: white;}#sk-container-id-1 pre{padding: 0;}#sk-container-id-1 div.sk-toggleable {background-color: white;}#sk-container-id-1 label.sk-toggleable__label {cursor: pointer;display: block;width: 100%;margin-bottom: 0;padding: 0.3em;box-sizing: border-box;text-align: center;}#sk-container-id-1 label.sk-toggleable__label-arrow:before {content: \"▸\";float: left;margin-right: 0.25em;color: #696969;}#sk-container-id-1 label.sk-toggleable__label-arrow:hover:before {color: black;}#sk-container-id-1 div.sk-estimator:hover label.sk-toggleable__label-arrow:before {color: black;}#sk-container-id-1 div.sk-toggleable__content {max-height: 0;max-width: 0;overflow: hidden;text-align: left;background-color: #f0f8ff;}#sk-container-id-1 div.sk-toggleable__content pre {margin: 0.2em;color: black;border-radius: 0.25em;background-color: #f0f8ff;}#sk-container-id-1 input.sk-toggleable__control:checked~div.sk-toggleable__content {max-height: 200px;max-width: 100%;overflow: auto;}#sk-container-id-1 input.sk-toggleable__control:checked~label.sk-toggleable__label-arrow:before {content: \"▾\";}#sk-container-id-1 div.sk-estimator input.sk-toggleable__control:checked~label.sk-toggleable__label {background-color: #d4ebff;}#sk-container-id-1 div.sk-label input.sk-toggleable__control:checked~label.sk-toggleable__label {background-color: #d4ebff;}#sk-container-id-1 input.sk-hidden--visually {border: 0;clip: rect(1px 1px 1px 1px);clip: rect(1px, 1px, 1px, 1px);height: 1px;margin: -1px;overflow: hidden;padding: 0;position: absolute;width: 1px;}#sk-container-id-1 div.sk-estimator {font-family: monospace;background-color: #f0f8ff;border: 1px dotted black;border-radius: 0.25em;box-sizing: border-box;margin-bottom: 0.5em;}#sk-container-id-1 div.sk-estimator:hover {background-color: #d4ebff;}#sk-container-id-1 div.sk-parallel-item::after {content: \"\";width: 100%;border-bottom: 1px solid gray;flex-grow: 1;}#sk-container-id-1 div.sk-label:hover label.sk-toggleable__label {background-color: #d4ebff;}#sk-container-id-1 div.sk-serial::before {content: \"\";position: absolute;border-left: 1px solid gray;box-sizing: border-box;top: 0;bottom: 0;left: 50%;z-index: 0;}#sk-container-id-1 div.sk-serial {display: flex;flex-direction: column;align-items: center;background-color: white;padding-right: 0.2em;padding-left: 0.2em;position: relative;}#sk-container-id-1 div.sk-item {position: relative;z-index: 1;}#sk-container-id-1 div.sk-parallel {display: flex;align-items: stretch;justify-content: center;background-color: white;position: relative;}#sk-container-id-1 div.sk-item::before, #sk-container-id-1 div.sk-parallel-item::before {content: \"\";position: absolute;border-left: 1px solid gray;box-sizing: border-box;top: 0;bottom: 0;left: 50%;z-index: -1;}#sk-container-id-1 div.sk-parallel-item {display: flex;flex-direction: column;z-index: 1;position: relative;background-color: white;}#sk-container-id-1 div.sk-parallel-item:first-child::after {align-self: flex-end;width: 50%;}#sk-container-id-1 div.sk-parallel-item:last-child::after {align-self: flex-start;width: 50%;}#sk-container-id-1 div.sk-parallel-item:only-child::after {width: 0;}#sk-container-id-1 div.sk-dashed-wrapped {border: 1px dashed gray;margin: 0 0.4em 0.5em 0.4em;box-sizing: border-box;padding-bottom: 0.4em;background-color: white;}#sk-container-id-1 div.sk-label label {font-family: monospace;font-weight: bold;display: inline-block;line-height: 1.2em;}#sk-container-id-1 div.sk-label-container {text-align: center;}#sk-container-id-1 div.sk-container {/* jupyter's `normalize.less` sets `[hidden] { display: none; }` but bootstrap.min.css set `[hidden] { display: none !important; }` so we also need the `!important` here to be able to override the default hidden behavior on the sphinx rendered scikit-learn.org. See: https://github.com/scikit-learn/scikit-learn/issues/21755 */display: inline-block !important;position: relative;}#sk-container-id-1 div.sk-text-repr-fallback {display: none;}</style><div id=\"sk-container-id-1\" class=\"sk-top-container\"><div class=\"sk-text-repr-fallback\"><pre>KNeighborsClassifier(n_neighbors=1)</pre><b>In a Jupyter environment, please rerun this cell to show the HTML representation or trust the notebook. <br />On GitHub, the HTML representation is unable to render, please try loading this page with nbviewer.org.</b></div><div class=\"sk-container\" hidden><div class=\"sk-item\"><div class=\"sk-estimator sk-toggleable\"><input class=\"sk-toggleable__control sk-hidden--visually\" id=\"sk-estimator-id-1\" type=\"checkbox\" checked><label for=\"sk-estimator-id-1\" class=\"sk-toggleable__label sk-toggleable__label-arrow\">KNeighborsClassifier</label><div class=\"sk-toggleable__content\"><pre>KNeighborsClassifier(n_neighbors=1)</pre></div></div></div></div></div>"
          },
          "metadata": {}
        }
      ],
      "id": "30fc1afa-195c-4497-a7c0-ab4244d341bb"
    },
    {
      "cell_type": "code",
      "source": "Clasificador.score(MatrizEntrenamiento, MatrizResultado)",
      "metadata": {
        "trusted": true
      },
      "execution_count": 6,
      "outputs": [
        {
          "execution_count": 6,
          "output_type": "execute_result",
          "data": {
            "text/plain": "1.0"
          },
          "metadata": {}
        }
      ],
      "id": "a37b8019-679b-4833-baca-f62ddd9d6e28"
    },
    {
      "cell_type": "code",
      "source": "MatrizValidacion = np.array([[28.0,3.0,0.0],                            \n                             [22.0,3.0,1.0],                            \n                             [24.0,1.0,1.0],                            \n                             [17.0,2.0,1.0],                            \n                             [50.0,2.0,0.0],                            \n                             [18.0,1.0,1.0],                            \n                             [25.0,2.0,1.0],                            \n                             [40.0,2.0,1.0],                            \n                             [33.0,1.0,1.0],                            \n                             [29.0,1.0,0.0],                            \n                             [31.0,2.0,0.0],                            \n                             [20.0,3.0,1.0],                            \n                             [25.0,3.0,0.0],                            \n                             [49.0,2.0,0.0]])",
      "metadata": {
        "trusted": true
      },
      "execution_count": 7,
      "outputs": [],
      "id": "86d9788a-b25c-48e0-91e0-0dcba0e92243"
    },
    {
      "cell_type": "code",
      "source": "MatrizValidacionResultado = np.array([1,                                     \n                                      0,                                     \n                                      0,                                     \n                                      0,                                     \n                                      1,                                     \n                                      0,                                     \n                                      0,                                     \n                                      0,                                     \n                                      0,                                    \n                                      0,                                     \n                                      1,                                     \n                                      0,                                     \n                                      1,                                     \n                                      1])",
      "metadata": {
        "trusted": true
      },
      "execution_count": 8,
      "outputs": [],
      "id": "617e92f9-bd2d-4b7d-a359-d52cee8e4650"
    },
    {
      "cell_type": "code",
      "source": "resultado = Clasificador.predict(MatrizValidacion)\nresultado",
      "metadata": {
        "trusted": true
      },
      "execution_count": 10,
      "outputs": [
        {
          "execution_count": 10,
          "output_type": "execute_result",
          "data": {
            "text/plain": "array([1, 1, 0, 0, 1, 0, 1, 0, 0, 0, 0, 0, 1, 1])"
          },
          "metadata": {}
        }
      ],
      "id": "b088d283-38c6-486f-9172-e08ce5908504"
    },
    {
      "cell_type": "code",
      "source": "MatrizValidacionResultado",
      "metadata": {
        "trusted": true
      },
      "execution_count": 11,
      "outputs": [
        {
          "execution_count": 11,
          "output_type": "execute_result",
          "data": {
            "text/plain": "array([1, 0, 0, 0, 1, 0, 0, 0, 0, 0, 1, 0, 1, 1])"
          },
          "metadata": {}
        }
      ],
      "id": "f08e5b46-767c-46c7-ba13-f5f9bc96946f"
    },
    {
      "cell_type": "code",
      "source": "",
      "metadata": {},
      "execution_count": null,
      "outputs": [],
      "id": "8979679a-bb65-48b6-a9c5-8a87a5798eb3"
    }
  ]
}